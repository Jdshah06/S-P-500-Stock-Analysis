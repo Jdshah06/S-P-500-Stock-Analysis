{
 "cells": [
  {
   "cell_type": "code",
   "execution_count": 1,
   "metadata": {},
   "outputs": [
    {
     "ename": "FileNotFoundError",
     "evalue": "[Errno 2] File ../s-and-p-500-companies-financials-master/data/constituents.csv does not exist: '../s-and-p-500-companies-financials-master/data/constituents.csv'",
     "output_type": "error",
     "traceback": [
      "\u001b[0;31m---------------------------------------------------------------------------\u001b[0m",
      "\u001b[0;31mFileNotFoundError\u001b[0m                         Traceback (most recent call last)",
      "\u001b[0;32m<ipython-input-1-8bb75a9638e6>\u001b[0m in \u001b[0;36m<module>\u001b[0;34m\u001b[0m\n\u001b[1;32m     11\u001b[0m \u001b[0ms_p_df\u001b[0m \u001b[0;34m=\u001b[0m \u001b[0mpd\u001b[0m\u001b[0;34m.\u001b[0m\u001b[0mread_csv\u001b[0m\u001b[0;34m(\u001b[0m\u001b[0ms_p_500_data\u001b[0m\u001b[0;34m)\u001b[0m\u001b[0;34m\u001b[0m\u001b[0;34m\u001b[0m\u001b[0m\n\u001b[1;32m     12\u001b[0m \u001b[0mindividual_df\u001b[0m \u001b[0;34m=\u001b[0m \u001b[0mpd\u001b[0m\u001b[0;34m.\u001b[0m\u001b[0mread_csv\u001b[0m\u001b[0;34m(\u001b[0m\u001b[0mindividual_data\u001b[0m\u001b[0;34m)\u001b[0m\u001b[0;34m\u001b[0m\u001b[0;34m\u001b[0m\u001b[0m\n\u001b[0;32m---> 13\u001b[0;31m \u001b[0mindustry_df\u001b[0m \u001b[0;34m=\u001b[0m \u001b[0mpd\u001b[0m\u001b[0;34m.\u001b[0m\u001b[0mread_csv\u001b[0m\u001b[0;34m(\u001b[0m\u001b[0mindividual_industry\u001b[0m\u001b[0;34m)\u001b[0m\u001b[0;34m\u001b[0m\u001b[0;34m\u001b[0m\u001b[0m\n\u001b[0m",
      "\u001b[0;32m~/Applications/anaconda3/lib/python3.7/site-packages/pandas/io/parsers.py\u001b[0m in \u001b[0;36mparser_f\u001b[0;34m(filepath_or_buffer, sep, delimiter, header, names, index_col, usecols, squeeze, prefix, mangle_dupe_cols, dtype, engine, converters, true_values, false_values, skipinitialspace, skiprows, skipfooter, nrows, na_values, keep_default_na, na_filter, verbose, skip_blank_lines, parse_dates, infer_datetime_format, keep_date_col, date_parser, dayfirst, cache_dates, iterator, chunksize, compression, thousands, decimal, lineterminator, quotechar, quoting, doublequote, escapechar, comment, encoding, dialect, error_bad_lines, warn_bad_lines, delim_whitespace, low_memory, memory_map, float_precision)\u001b[0m\n\u001b[1;32m    674\u001b[0m         )\n\u001b[1;32m    675\u001b[0m \u001b[0;34m\u001b[0m\u001b[0m\n\u001b[0;32m--> 676\u001b[0;31m         \u001b[0;32mreturn\u001b[0m \u001b[0m_read\u001b[0m\u001b[0;34m(\u001b[0m\u001b[0mfilepath_or_buffer\u001b[0m\u001b[0;34m,\u001b[0m \u001b[0mkwds\u001b[0m\u001b[0;34m)\u001b[0m\u001b[0;34m\u001b[0m\u001b[0;34m\u001b[0m\u001b[0m\n\u001b[0m\u001b[1;32m    677\u001b[0m \u001b[0;34m\u001b[0m\u001b[0m\n\u001b[1;32m    678\u001b[0m     \u001b[0mparser_f\u001b[0m\u001b[0;34m.\u001b[0m\u001b[0m__name__\u001b[0m \u001b[0;34m=\u001b[0m \u001b[0mname\u001b[0m\u001b[0;34m\u001b[0m\u001b[0;34m\u001b[0m\u001b[0m\n",
      "\u001b[0;32m~/Applications/anaconda3/lib/python3.7/site-packages/pandas/io/parsers.py\u001b[0m in \u001b[0;36m_read\u001b[0;34m(filepath_or_buffer, kwds)\u001b[0m\n\u001b[1;32m    446\u001b[0m \u001b[0;34m\u001b[0m\u001b[0m\n\u001b[1;32m    447\u001b[0m     \u001b[0;31m# Create the parser.\u001b[0m\u001b[0;34m\u001b[0m\u001b[0;34m\u001b[0m\u001b[0;34m\u001b[0m\u001b[0m\n\u001b[0;32m--> 448\u001b[0;31m     \u001b[0mparser\u001b[0m \u001b[0;34m=\u001b[0m \u001b[0mTextFileReader\u001b[0m\u001b[0;34m(\u001b[0m\u001b[0mfp_or_buf\u001b[0m\u001b[0;34m,\u001b[0m \u001b[0;34m**\u001b[0m\u001b[0mkwds\u001b[0m\u001b[0;34m)\u001b[0m\u001b[0;34m\u001b[0m\u001b[0;34m\u001b[0m\u001b[0m\n\u001b[0m\u001b[1;32m    449\u001b[0m \u001b[0;34m\u001b[0m\u001b[0m\n\u001b[1;32m    450\u001b[0m     \u001b[0;32mif\u001b[0m \u001b[0mchunksize\u001b[0m \u001b[0;32mor\u001b[0m \u001b[0miterator\u001b[0m\u001b[0;34m:\u001b[0m\u001b[0;34m\u001b[0m\u001b[0;34m\u001b[0m\u001b[0m\n",
      "\u001b[0;32m~/Applications/anaconda3/lib/python3.7/site-packages/pandas/io/parsers.py\u001b[0m in \u001b[0;36m__init__\u001b[0;34m(self, f, engine, **kwds)\u001b[0m\n\u001b[1;32m    878\u001b[0m             \u001b[0mself\u001b[0m\u001b[0;34m.\u001b[0m\u001b[0moptions\u001b[0m\u001b[0;34m[\u001b[0m\u001b[0;34m\"has_index_names\"\u001b[0m\u001b[0;34m]\u001b[0m \u001b[0;34m=\u001b[0m \u001b[0mkwds\u001b[0m\u001b[0;34m[\u001b[0m\u001b[0;34m\"has_index_names\"\u001b[0m\u001b[0;34m]\u001b[0m\u001b[0;34m\u001b[0m\u001b[0;34m\u001b[0m\u001b[0m\n\u001b[1;32m    879\u001b[0m \u001b[0;34m\u001b[0m\u001b[0m\n\u001b[0;32m--> 880\u001b[0;31m         \u001b[0mself\u001b[0m\u001b[0;34m.\u001b[0m\u001b[0m_make_engine\u001b[0m\u001b[0;34m(\u001b[0m\u001b[0mself\u001b[0m\u001b[0;34m.\u001b[0m\u001b[0mengine\u001b[0m\u001b[0;34m)\u001b[0m\u001b[0;34m\u001b[0m\u001b[0;34m\u001b[0m\u001b[0m\n\u001b[0m\u001b[1;32m    881\u001b[0m \u001b[0;34m\u001b[0m\u001b[0m\n\u001b[1;32m    882\u001b[0m     \u001b[0;32mdef\u001b[0m \u001b[0mclose\u001b[0m\u001b[0;34m(\u001b[0m\u001b[0mself\u001b[0m\u001b[0;34m)\u001b[0m\u001b[0;34m:\u001b[0m\u001b[0;34m\u001b[0m\u001b[0;34m\u001b[0m\u001b[0m\n",
      "\u001b[0;32m~/Applications/anaconda3/lib/python3.7/site-packages/pandas/io/parsers.py\u001b[0m in \u001b[0;36m_make_engine\u001b[0;34m(self, engine)\u001b[0m\n\u001b[1;32m   1112\u001b[0m     \u001b[0;32mdef\u001b[0m \u001b[0m_make_engine\u001b[0m\u001b[0;34m(\u001b[0m\u001b[0mself\u001b[0m\u001b[0;34m,\u001b[0m \u001b[0mengine\u001b[0m\u001b[0;34m=\u001b[0m\u001b[0;34m\"c\"\u001b[0m\u001b[0;34m)\u001b[0m\u001b[0;34m:\u001b[0m\u001b[0;34m\u001b[0m\u001b[0;34m\u001b[0m\u001b[0m\n\u001b[1;32m   1113\u001b[0m         \u001b[0;32mif\u001b[0m \u001b[0mengine\u001b[0m \u001b[0;34m==\u001b[0m \u001b[0;34m\"c\"\u001b[0m\u001b[0;34m:\u001b[0m\u001b[0;34m\u001b[0m\u001b[0;34m\u001b[0m\u001b[0m\n\u001b[0;32m-> 1114\u001b[0;31m             \u001b[0mself\u001b[0m\u001b[0;34m.\u001b[0m\u001b[0m_engine\u001b[0m \u001b[0;34m=\u001b[0m \u001b[0mCParserWrapper\u001b[0m\u001b[0;34m(\u001b[0m\u001b[0mself\u001b[0m\u001b[0;34m.\u001b[0m\u001b[0mf\u001b[0m\u001b[0;34m,\u001b[0m \u001b[0;34m**\u001b[0m\u001b[0mself\u001b[0m\u001b[0;34m.\u001b[0m\u001b[0moptions\u001b[0m\u001b[0;34m)\u001b[0m\u001b[0;34m\u001b[0m\u001b[0;34m\u001b[0m\u001b[0m\n\u001b[0m\u001b[1;32m   1115\u001b[0m         \u001b[0;32melse\u001b[0m\u001b[0;34m:\u001b[0m\u001b[0;34m\u001b[0m\u001b[0;34m\u001b[0m\u001b[0m\n\u001b[1;32m   1116\u001b[0m             \u001b[0;32mif\u001b[0m \u001b[0mengine\u001b[0m \u001b[0;34m==\u001b[0m \u001b[0;34m\"python\"\u001b[0m\u001b[0;34m:\u001b[0m\u001b[0;34m\u001b[0m\u001b[0;34m\u001b[0m\u001b[0m\n",
      "\u001b[0;32m~/Applications/anaconda3/lib/python3.7/site-packages/pandas/io/parsers.py\u001b[0m in \u001b[0;36m__init__\u001b[0;34m(self, src, **kwds)\u001b[0m\n\u001b[1;32m   1889\u001b[0m         \u001b[0mkwds\u001b[0m\u001b[0;34m[\u001b[0m\u001b[0;34m\"usecols\"\u001b[0m\u001b[0;34m]\u001b[0m \u001b[0;34m=\u001b[0m \u001b[0mself\u001b[0m\u001b[0;34m.\u001b[0m\u001b[0musecols\u001b[0m\u001b[0;34m\u001b[0m\u001b[0;34m\u001b[0m\u001b[0m\n\u001b[1;32m   1890\u001b[0m \u001b[0;34m\u001b[0m\u001b[0m\n\u001b[0;32m-> 1891\u001b[0;31m         \u001b[0mself\u001b[0m\u001b[0;34m.\u001b[0m\u001b[0m_reader\u001b[0m \u001b[0;34m=\u001b[0m \u001b[0mparsers\u001b[0m\u001b[0;34m.\u001b[0m\u001b[0mTextReader\u001b[0m\u001b[0;34m(\u001b[0m\u001b[0msrc\u001b[0m\u001b[0;34m,\u001b[0m \u001b[0;34m**\u001b[0m\u001b[0mkwds\u001b[0m\u001b[0;34m)\u001b[0m\u001b[0;34m\u001b[0m\u001b[0;34m\u001b[0m\u001b[0m\n\u001b[0m\u001b[1;32m   1892\u001b[0m         \u001b[0mself\u001b[0m\u001b[0;34m.\u001b[0m\u001b[0munnamed_cols\u001b[0m \u001b[0;34m=\u001b[0m \u001b[0mself\u001b[0m\u001b[0;34m.\u001b[0m\u001b[0m_reader\u001b[0m\u001b[0;34m.\u001b[0m\u001b[0munnamed_cols\u001b[0m\u001b[0;34m\u001b[0m\u001b[0;34m\u001b[0m\u001b[0m\n\u001b[1;32m   1893\u001b[0m \u001b[0;34m\u001b[0m\u001b[0m\n",
      "\u001b[0;32mpandas/_libs/parsers.pyx\u001b[0m in \u001b[0;36mpandas._libs.parsers.TextReader.__cinit__\u001b[0;34m()\u001b[0m\n",
      "\u001b[0;32mpandas/_libs/parsers.pyx\u001b[0m in \u001b[0;36mpandas._libs.parsers.TextReader._setup_parser_source\u001b[0;34m()\u001b[0m\n",
      "\u001b[0;31mFileNotFoundError\u001b[0m: [Errno 2] File ../s-and-p-500-companies-financials-master/data/constituents.csv does not exist: '../s-and-p-500-companies-financials-master/data/constituents.csv'"
     ]
    }
   ],
   "source": [
    "# Dependencies and Setup\n",
    "import matplotlib.pyplot as plt\n",
    "import pandas as pd\n",
    "import scipy.stats as st\n",
    "import numpy as np\n",
    "\n",
    "s_p_500_data = '^GSPC.csv'\n",
    "individual_data = 'all_stocks_5yr.csv'\n",
    "individual_industry = '../s-and-p-500-companies-financials-master/data/constituents.csv'\n",
    "\n",
    "s_p_df = pd.read_csv(s_p_500_data)\n",
    "individual_df = pd.read_csv(individual_data)\n",
    "industry_df = pd.read_csv(individual_industry)"
   ]
  },
  {
   "cell_type": "code",
   "execution_count": null,
   "metadata": {},
   "outputs": [],
   "source": [
    "individual_df.rename(columns = {'Name':'Symbol'}, inplace=True)"
   ]
  },
  {
   "cell_type": "code",
   "execution_count": null,
   "metadata": {},
   "outputs": [],
   "source": [
    "stocks_df = individual_df.merge(industry_df, on='Symbol')"
   ]
  },
  {
   "cell_type": "code",
   "execution_count": null,
   "metadata": {},
   "outputs": [],
   "source": [
    "stocks_df['Daily Change'] = stocks_df['close'] - stocks_df['open']\n",
    "max_value = stocks_df['Daily Change'].max()\n",
    "max_day_profit = stocks_df.loc[(stocks_df['Daily Change']==max_value)]\n",
    "max_day_profit"
   ]
  },
  {
   "cell_type": "code",
   "execution_count": null,
   "metadata": {},
   "outputs": [],
   "source": [
    "group_by_individual = stocks_df.groupby('Symbol')\n",
    "max_by_group_symbol = group_by_individual['Daily Change'].max()\n",
    "max_daily_each = pd.DataFrame({'Max Increase': max_by_group_symbol})\n",
    "max_daily_each = max_daily_each.reset_index()"
   ]
  },
  {
   "cell_type": "code",
   "execution_count": null,
   "metadata": {
    "scrolled": true
   },
   "outputs": [],
   "source": [
    "m = max_daily_each.loc[max_daily_each['Symbol']=='PCLN']\n",
    "m"
   ]
  },
  {
   "cell_type": "code",
   "execution_count": null,
   "metadata": {
    "scrolled": true
   },
   "outputs": [],
   "source": [
    "top_10_max = max_daily_each.sort_values('Max Increase', ascending=False).head(10)\n",
    "top_10_max"
   ]
  },
  {
   "cell_type": "code",
   "execution_count": null,
   "metadata": {},
   "outputs": [],
   "source": [
    "min_value = stocks_df['Daily Change'].min()\n",
    "min_day_profit = stocks_df.loc[(stocks_df['Daily Change']==min_value)]\n",
    "min_day_profit"
   ]
  },
  {
   "cell_type": "code",
   "execution_count": null,
   "metadata": {},
   "outputs": [],
   "source": [
    "min_by_group_symbol = group_by_individual['Daily Change'].min()\n",
    "min_daily_each = pd.DataFrame({'Min Increase': min_by_group_symbol})\n",
    "min_daily_each = min_daily_each.reset_index()\n",
    "m2 = min_daily_each.loc[min_daily_each['Symbol']=='AMZN']\n",
    "m2"
   ]
  },
  {
   "cell_type": "code",
   "execution_count": null,
   "metadata": {},
   "outputs": [],
   "source": [
    "top_10_min = min_daily_each.sort_values('Min Increase', ascending=True).head(10)\n",
    "top_10_min"
   ]
  },
  {
   "cell_type": "code",
   "execution_count": null,
   "metadata": {},
   "outputs": [],
   "source": [
    "AAL_data = individual_df[individual_df['Symbol']=='AAL']\n",
    "AAL_data\n",
    "\n",
    "x_axis= np.arange(len(AAL_data))\n",
    "\n",
    "fig = plt.figure(figsize=(12,4))\n",
    "\n",
    "ax1 = fig.add_subplot(1,2,1)\n",
    "ax1.plot(x_axis, AAL_data['close'])\n",
    "ax1.set_title('American Airlines')\n",
    "\n",
    "ax2=fig.add_subplot(1,2,2)\n",
    "ax2.plot(x_axis, s_p_df['Close'])\n",
    "ax2.set_title('S&P 500')"
   ]
  },
  {
   "cell_type": "code",
   "execution_count": null,
   "metadata": {},
   "outputs": [],
   "source": [
    "sector_df = stocks_df.groupby(['Sector','date'])['close'].mean()\n",
    "\n",
    "sector = pd.DataFrame(sector_df)\n",
    "sector = sector.unstack(level=0)\n",
    "sector.columns = sector.columns.droplevel()\n",
    "sector\n",
    "\n",
    "# axis = np.arange(len(sector))\n",
    "fig = plt.figure(figsize = (15,10))\n",
    "ax1 = fig.add_subplot(2,1,1)\n",
    "ax2 = fig.add_subplot(2,1,2)\n",
    "\n",
    "sector.plot(ax=ax1)\n",
    "ax2.plot(x_axis, s_p_df['Close'], label=\"S&P 500\")\n",
    "\n",
    "ax1.legend(loc='center left', bbox_to_anchor=(1, 0.5))\n",
    "ax2.legend(loc='center left', bbox_to_anchor=(1, 0.5))\n",
    "\n",
    "ax1.grid()\n",
    "ax2.grid()\n",
    "plt.tight_layout()"
   ]
  },
  {
   "cell_type": "code",
   "execution_count": null,
   "metadata": {},
   "outputs": [],
   "source": [
    "s_p = pd.DataFrame({'date': s_p_df['Date'],\n",
    "                   'close':s_p_df['Close']})\n",
    "\n",
    "ticker_df = stocks_df.groupby(['Symbol','date'])['close'].mean()\n",
    "ticker = pd.DataFrame(ticker_df)\n",
    "ticker = ticker.unstack(level=0)\n",
    "ticker.columns = ticker.columns.droplevel()\n",
    "ticker = ticker.reset_index()\n",
    "ticker\n",
    "\n",
    "merge_w_s_p_500 = ticker.merge(s_p, on='date')\n",
    "merge_w_s_p_500.rename(columns={'close':'S&P'}, inplace=True)\n",
    "\n",
    "#ticker.corr()\n",
    "#ticker.merge(s_p_df['Close'], on='date')\n",
    "\n",
    "#fig = plt.figure(figsize = (15,20))\n",
    "#ax1 = fig.add_subplot(2,1,1)\n",
    "#ax2 = fig.add_subplot(2,1,2)\n",
    "\n",
    "#ticker.plot(ax=ax1)\n",
    "#ax2.plot(x_axis, s_p_df['Close'], label=\"S&P 500\")\n",
    "\n",
    "#ax1.legend(loc='center left', bbox_to_anchor=(1, 0.5))\n",
    "#ax2.legend(loc='center left', bbox_to_anchor=(1, 0.5))\n",
    "\n",
    "#ax1.grid()\n",
    "\n",
    "#plt.scatter(ticker['IBM'], s_p_df['Close'])\n",
    "#np.corrcoef(ticker, s_p_df['Close'])\n",
    "\n",
    "merge_w_s_p_500.corr()"
   ]
  },
  {
   "cell_type": "code",
   "execution_count": null,
   "metadata": {},
   "outputs": [],
   "source": [
    "stocks_df_df = pd.DataFrame({'open':ticker_df})\n",
    "stocks_df_df"
   ]
  },
  {
   "cell_type": "code",
   "execution_count": null,
   "metadata": {},
   "outputs": [],
   "source": [
    "s_p_df"
   ]
  },
  {
   "cell_type": "code",
   "execution_count": null,
   "metadata": {},
   "outputs": [],
   "source": [
    "stocks_df"
   ]
  },
  {
   "cell_type": "code",
   "execution_count": null,
   "metadata": {
    "scrolled": true
   },
   "outputs": [],
   "source": [
    "stocks_df['date'] = pd.to_datetime(stocks_df['date'])\n",
    "stocks_df['Week_number'] = stocks_df['date'].dt.week\n",
    "stocks_df['Year'] = stocks_df['date'].dt.year\n",
    "stocks_df_week = stocks_df.groupby(['Symbol','Year','Week_number']).agg({'open':'first','close':'last'})\n",
    "stocks_df_week.head(10)\n"
   ]
  },
  {
   "cell_type": "code",
   "execution_count": null,
   "metadata": {
    "scrolled": true
   },
   "outputs": [],
   "source": [
    "stocks_df.loc[stocks_df['date'] == '2014-08-25']"
   ]
  },
  {
   "cell_type": "code",
   "execution_count": null,
   "metadata": {
    "scrolled": false
   },
   "outputs": [],
   "source": [
    "stocks_df_week = stocks_df_week.reset_index()\n",
    "stocks_df_week"
   ]
  },
  {
   "cell_type": "code",
   "execution_count": null,
   "metadata": {},
   "outputs": [],
   "source": [
    "week_2015 = stocks_df_week.loc[(stocks_df_week['Week_number']==10) & (stocks_df_week['Year']==2015)]\n",
    "week_2016 = stocks_df_week.loc[(stocks_df_week['Week_number']==34) & (stocks_df_week['Year']==2016)]\n",
    "week_2017 = stocks_df_week.loc[(stocks_df_week['Week_number']==23) & (stocks_df_week['Year']==2017)]\n",
    "week_2018 = stocks_df_week.loc[(stocks_df_week['Week_number']==4) & (stocks_df_week['Year']==2018)]\n",
    "week_2013 = stocks_df_week.loc[(stocks_df_week['Week_number']==10) & (stocks_df_week['Year']==2013)]\n",
    "week_2014 = stocks_df_week.loc[(stocks_df_week['Week_number']==35) & (stocks_df_week['Year']==2014)]\n"
   ]
  },
  {
   "cell_type": "code",
   "execution_count": null,
   "metadata": {},
   "outputs": [],
   "source": [
    "week_2015['max_change_2015'] = round(week_2015['close'] - week_2015['open'],2)\n",
    "week_2015_max = week_2015['max_change_2015'].max()\n",
    "week_2015.loc[week_2015['max_change_2015'] == week_2015_max]"
   ]
  },
  {
   "cell_type": "code",
   "execution_count": null,
   "metadata": {
    "scrolled": true
   },
   "outputs": [],
   "source": [
    "week_2016['max_change_2016'] = round(week_2016['close'] - week_2016['open'],2)\n",
    "week_2016_max = week_2016['max_change_2016'].max()\n",
    "week_2016.loc[week_2016['max_change_2016'] == week_2016_max]"
   ]
  },
  {
   "cell_type": "code",
   "execution_count": null,
   "metadata": {},
   "outputs": [],
   "source": [
    "week_2017['max_change_2017'] = round(week_2017['close'] - week_2017['open'],2)\n",
    "week_2017_max = week_2017['max_change_2017'].max()\n",
    "week_2017.loc[week_2017['max_change_2017'] == week_2017_max]"
   ]
  },
  {
   "cell_type": "code",
   "execution_count": null,
   "metadata": {},
   "outputs": [],
   "source": [
    "week_2018['max_change_2018'] = round(week_2018['close'] - week_2018['open'],2)\n",
    "week_2018_max = week_2018['max_change_2018'].max()\n",
    "week_2018.loc[week_2018['max_change_2018'] == week_2018_max]"
   ]
  },
  {
   "cell_type": "code",
   "execution_count": null,
   "metadata": {},
   "outputs": [],
   "source": [
    "week_2013['max_change_2013'] = round(week_2013['close'] - week_2013['open'],2)\n",
    "week_2013_max = week_2013['max_change_2013'].max()\n",
    "week_2013.loc[week_2013['max_change_2013'] == week_2013_max]"
   ]
  },
  {
   "cell_type": "code",
   "execution_count": null,
   "metadata": {
    "scrolled": true
   },
   "outputs": [],
   "source": [
    "week_2014['max_change_2014'] = round(week_2014['close'] - week_2014['open'],2)\n",
    "week_2014_max = week_2014['max_change_2014'].max()\n",
    "week_2014.loc[week_2014['max_change_2014'] == week_2014_max]"
   ]
  },
  {
   "cell_type": "code",
   "execution_count": null,
   "metadata": {},
   "outputs": [],
   "source": []
  },
  {
   "cell_type": "code",
   "execution_count": null,
   "metadata": {},
   "outputs": [],
   "source": [
    "stocks_df['date'] = pd.to_datetime(stocks_df['date'])\n",
    "stocks_df['Month_number'] = stocks_df['date'].dt.month\n",
    "stocks_df['Year'] = stocks_df['date'].dt.year\n",
    "stocks_df_month = stocks_df.groupby(['Symbol','Year','Sector','Month_number']).agg({'open':'first','close':'last'})\n",
    "#stocks_df_month.dtypes"
   ]
  },
  {
   "cell_type": "code",
   "execution_count": null,
   "metadata": {
    "scrolled": true
   },
   "outputs": [],
   "source": [
    "stocks_df_month = stocks_df_month.reset_index()\n",
    "stocks_df_month['Monthly Change'] = stocks_df_month['close'] - stocks_df_month['open']\n",
    "stocks_df_month = stocks_df_month.groupby(['Sector','Year','Month_number'])['Monthly Change'].mean()\n",
    "#stocks_df_month.dtypes"
   ]
  },
  {
   "cell_type": "code",
   "execution_count": null,
   "metadata": {
    "scrolled": true
   },
   "outputs": [],
   "source": [
    "stocks_month = pd.DataFrame(stocks_df_month)\n",
    "#stocks_month = stocks_month.unstack(level=0)\n",
    "stocks_month = stocks_month.reset_index()\n",
    "#df.YEAR.astype(str) + '/' + df.MONTH.astype(str)\n",
    "\n",
    "#stocks_month['Year-Month'] = stocks_month['Year'].astype(str) + \"-\" + stocks_month['Month_number'].astype(str)\n",
    "year_month_df=pd.DataFrame({'year': stocks_month['Year'], 'month': stocks_month['Month_number'], 'day':[1 for x in range(671)]})\n",
    "stocks_month['Year-Month']= pd.to_datetime(year_month_df)\n",
    "stocks_month"
   ]
  },
  {
   "cell_type": "code",
   "execution_count": null,
   "metadata": {},
   "outputs": [],
   "source": [
    "stocks_b"
   ]
  },
  {
   "cell_type": "code",
   "execution_count": null,
   "metadata": {},
   "outputs": [],
   "source": []
  },
  {
   "cell_type": "code",
   "execution_count": null,
   "metadata": {
    "scrolled": true
   },
   "outputs": [],
   "source": [
    "#stocks_month = pd.DataFrame(stocks_df_month)\n",
    "#stocks_month = stocks_month.unstack(level=0)\n",
    "#stocks_month = stocks_month.reset_index()\n",
    "\n",
    "#df.YEAR.astype(str) + '/' + df.MONTH.astype(str)\n",
    "\n",
    "#stocks_month['Year-Month'] = stocks_month['Year'].astype(str) + \"-\" + stocks_month['Month_number'].astype(str)\n",
    "#plt.scatter(stocks_month['Year-Month'],stocks_month['Monthly Change'])\n",
    "stocks_month.head()\n",
    "stocks_month=stocks_month.groupby(['Sector','Year-Month'])['Monthly Change'].mean()\n",
    "\n",
    "stocks_b = pd.DataFrame(stocks_month)\n",
    "stocks_b =stocks_b.unstack(level=0)\n",
    "stocks_b.columns = stocks_b.columns.droplevel()\n",
    "stocks_b = stocks_b.reset_index()\n",
    "stocks_b.set_index(\"Year-Month\",inplace= True)\n",
    "stocks_b\n",
    "\n",
    "fig = plt.figure(figsize = (20,10))\n",
    "ax1 = fig.add_subplot(2,1,1)\n",
    "#ax2 = fig.add_subplot(2,1,2)\n",
    "\n",
    "stocks_b.plot(ax=ax1)\n",
    "#ax2.plot(x_axis, s_p_df['Close'], label=\"S&P 500\")\n",
    "\n",
    "ax1.set_title('Monthly Change')\n",
    "ax1,plt.xticks(rotation=90)\n",
    "ax1.legend(loc='center left', bbox_to_anchor=(1, 0.5))\n",
    "#ax2.legend(loc='center left', bbox_to_anchor=(1, 0.5))\n",
    "\n",
    "ax1.grid()\n",
    "#ax2.grid()\n",
    "#plt.tight_layout()"
   ]
  },
  {
   "cell_type": "code",
   "execution_count": null,
   "metadata": {},
   "outputs": [],
   "source": [
    "\n",
    "fig = plt.figure(figsize=(20,7))\n",
    "plt.plot(stocks_b['Year-Month'], stocks_b['Energy'])\n",
    "plt.xticks(rotation=90)\n",
    "plt.grid()\n",
    "plt.show()"
   ]
  },
  {
   "cell_type": "code",
   "execution_count": null,
   "metadata": {},
   "outputs": [],
   "source": [
    "stocks_b['Year-Month'] = pd.to_datetime(stocks_b['Year-Month'])\n",
    "stocks_b.head(24)"
   ]
  },
  {
   "cell_type": "code",
   "execution_count": null,
   "metadata": {},
   "outputs": [],
   "source": [
    "plt.scatter"
   ]
  },
  {
   "cell_type": "code",
   "execution_count": null,
   "metadata": {},
   "outputs": [],
   "source": []
  },
  {
   "cell_type": "code",
   "execution_count": null,
   "metadata": {},
   "outputs": [],
   "source": []
  },
  {
   "cell_type": "code",
   "execution_count": null,
   "metadata": {},
   "outputs": [],
   "source": []
  },
  {
   "cell_type": "code",
   "execution_count": null,
   "metadata": {},
   "outputs": [],
   "source": []
  },
  {
   "cell_type": "code",
   "execution_count": null,
   "metadata": {},
   "outputs": [],
   "source": []
  },
  {
   "cell_type": "code",
   "execution_count": null,
   "metadata": {},
   "outputs": [],
   "source": []
  },
  {
   "cell_type": "code",
   "execution_count": null,
   "metadata": {},
   "outputs": [],
   "source": []
  },
  {
   "cell_type": "code",
   "execution_count": null,
   "metadata": {},
   "outputs": [],
   "source": []
  },
  {
   "cell_type": "code",
   "execution_count": null,
   "metadata": {},
   "outputs": [],
   "source": [
    "stocks_df_month['Monthly Change'] = stocks_df_month['close'] - stocks_df_month['open']"
   ]
  },
  {
   "cell_type": "code",
   "execution_count": null,
   "metadata": {},
   "outputs": [],
   "source": [
    "stocks_df_month = stocks_df_month.unstack(level=0)"
   ]
  },
  {
   "cell_type": "code",
   "execution_count": null,
   "metadata": {},
   "outputs": [],
   "source": [
    "stocks_df_month.plot(type='scatter')"
   ]
  },
  {
   "cell_type": "code",
   "execution_count": null,
   "metadata": {},
   "outputs": [],
   "source": []
  },
  {
   "cell_type": "code",
   "execution_count": null,
   "metadata": {},
   "outputs": [],
   "source": []
  },
  {
   "cell_type": "code",
   "execution_count": null,
   "metadata": {},
   "outputs": [],
   "source": []
  },
  {
   "cell_type": "code",
   "execution_count": null,
   "metadata": {},
   "outputs": [],
   "source": []
  },
  {
   "cell_type": "code",
   "execution_count": null,
   "metadata": {},
   "outputs": [],
   "source": []
  },
  {
   "cell_type": "code",
   "execution_count": null,
   "metadata": {},
   "outputs": [],
   "source": []
  },
  {
   "cell_type": "code",
   "execution_count": null,
   "metadata": {
    "scrolled": true
   },
   "outputs": [],
   "source": [
    "s_p_df.head()"
   ]
  },
  {
   "cell_type": "code",
   "execution_count": null,
   "metadata": {},
   "outputs": [],
   "source": [
    "SP_growth = []\n",
    "for row in range(len(s_p_df)):\n",
    "    growth2 = round(s_p_df['Close'][row] - s_p_df['Open'][row],3)\n",
    "    SP_growth.append(growth2)"
   ]
  },
  {
   "cell_type": "code",
   "execution_count": null,
   "metadata": {
    "scrolled": true
   },
   "outputs": [],
   "source": [
    "SP_growth"
   ]
  },
  {
   "cell_type": "code",
   "execution_count": null,
   "metadata": {},
   "outputs": [],
   "source": [
    "fig = plt.figure(figsize=(15,7))\n",
    "ax = np.arange(len(SP_growth))\n",
    "plt.plot(ax, SP_growth)"
   ]
  },
  {
   "cell_type": "code",
   "execution_count": null,
   "metadata": {},
   "outputs": [],
   "source": [
    "AAL = stocks_df[stocks_df['Symbol']=='AAL']\n",
    "AAL"
   ]
  },
  {
   "cell_type": "code",
   "execution_count": null,
   "metadata": {},
   "outputs": [],
   "source": [
    "AAL_growth = []\n",
    "for row in range(len(AAL)):\n",
    "    growth = round(AAL['close'][row] - AAL['open'][row],3)\n",
    "    AAL_growth.append(growth)"
   ]
  },
  {
   "cell_type": "code",
   "execution_count": null,
   "metadata": {
    "scrolled": true
   },
   "outputs": [],
   "source": [
    "AAL_growth_df = pd.DataFrame(AAL_growth)\n",
    "AAL_growth_df"
   ]
  },
  {
   "cell_type": "code",
   "execution_count": null,
   "metadata": {},
   "outputs": [],
   "source": [
    "SP_growth_df = pd.DataFrame(SP_growth)\n",
    "SP_growth_df"
   ]
  },
  {
   "cell_type": "code",
   "execution_count": null,
   "metadata": {},
   "outputs": [],
   "source": [
    "x_ax = AAL_growth_df['O']\n",
    "y_ax = SP_growth_df['O']\n",
    "(slope, intercept, r_value, p_value, st_err) = st.linregress(x_ax,y_ax)\n",
    "fit = x_ax * slope + intercept\n",
    "plt.scatter(x_ax,y_ax)\n",
    "plt.plot(x_ax,fit,'r',lw=2)\n",
    "\n",
    "\n",
    "\n",
    "#fig = plt.figure(figsize=(15,7))\n",
    "#ax = np.arange(len(AAL_growth))\n",
    "#plt.scatter(AAL_growth,SP_growth)"
   ]
  },
  {
   "cell_type": "code",
   "execution_count": null,
   "metadata": {},
   "outputs": [],
   "source": [
    "fig = plt.figure(figsize = (15,10))\n",
    "ax1 = fig.add_subplot(2,1,1)\n",
    "ax2 = fig.add_subplot(2,1,2)\n",
    "\n",
    "ax1.plot(ax, AAL_growth, label='American Airline')\n",
    "ax2.plot(ax, SP_growth, label=\"S&P 500\")\n",
    "\n",
    "ax1.legend(loc='center left', bbox_to_anchor=(1, 0.5))\n",
    "ax2.legend(loc='center left', bbox_to_anchor=(1, 0.5))\n",
    "\n",
    "ax1.grid()\n",
    "ax2.grid()\n",
    "plt.tight_layout()"
   ]
  },
  {
   "cell_type": "code",
   "execution_count": null,
   "metadata": {},
   "outputs": [],
   "source": []
  }
 ],
 "metadata": {
  "kernelspec": {
   "display_name": "Python 3",
   "language": "python",
   "name": "python3"
  },
  "language_info": {
   "codemirror_mode": {
    "name": "ipython",
    "version": 3
   },
   "file_extension": ".py",
   "mimetype": "text/x-python",
   "name": "python",
   "nbconvert_exporter": "python",
   "pygments_lexer": "ipython3",
   "version": "3.7.6"
  }
 },
 "nbformat": 4,
 "nbformat_minor": 4
}
